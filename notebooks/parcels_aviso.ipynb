{
 "cells": [
  {
   "cell_type": "markdown",
   "metadata": {},
   "source": [
    "# Parcels and Dask"
   ]
  },
  {
   "cell_type": "markdown",
   "metadata": {},
   "source": [
    "## TODO\n",
    "\n",
    "- [ ] Chunking of the velocity dataset?\n",
    "- [ ] ..."
   ]
  },
  {
   "cell_type": "markdown",
   "metadata": {},
   "source": [
    "## A serial example on the front end\n",
    "\n",
    "(That's not what we want in the end.  But let's get used to the package first.)"
   ]
  },
  {
   "cell_type": "code",
   "execution_count": 1,
   "metadata": {},
   "outputs": [],
   "source": [
    "from parcels import FieldSet, AdvectionRK4, ParticleSet, JITParticle\n",
    "from parcels import plotTrajectoriesFile\n",
    "import numpy as np\n",
    "import xarray as xr\n",
    "import gcsfs\n",
    "from datetime import timedelta as delta"
   ]
  },
  {
   "cell_type": "code",
   "execution_count": 2,
   "metadata": {},
   "outputs": [],
   "source": [
    "# create xarray Dataset of AVISO geostrophic velocities using gcsfs\n",
    "fname = \"pangeo-data/dataset-duacs-rep-global-merged-allsat-phy-l4-v3-alt\"\n",
    "gcsmap = gcsfs.mapping.GCSMap(fname)\n",
    "ds = xr.open_zarr(gcsmap)"
   ]
  },
  {
   "cell_type": "code",
   "execution_count": 3,
   "metadata": {},
   "outputs": [
    {
     "data": {
      "text/plain": [
       "<xarray.Dataset>\n",
       "Dimensions:    (latitude: 720, longitude: 1440, nv: 2, time: 8901)\n",
       "Coordinates:\n",
       "    crs        int32 ...\n",
       "    lat_bnds   (time, latitude, nv) float32 dask.array<shape=(8901, 720, 2), chunksize=(5, 720, 2)>\n",
       "  * latitude   (latitude) float32 -89.875 -89.625 -89.375 ... 89.625 89.875\n",
       "    lon_bnds   (longitude, nv) float32 dask.array<shape=(1440, 2), chunksize=(1440, 2)>\n",
       "  * longitude  (longitude) float32 0.125 0.375 0.625 ... 359.375 359.625 359.875\n",
       "  * nv         (nv) int32 0 1\n",
       "  * time       (time) datetime64[ns] 1993-01-01 1993-01-02 ... 2017-05-15\n",
       "Data variables:\n",
       "    adt        (time, latitude, longitude) float64 dask.array<shape=(8901, 720, 1440), chunksize=(5, 720, 1440)>\n",
       "    err        (time, latitude, longitude) float64 dask.array<shape=(8901, 720, 1440), chunksize=(5, 720, 1440)>\n",
       "    sla        (time, latitude, longitude) float64 dask.array<shape=(8901, 720, 1440), chunksize=(5, 720, 1440)>\n",
       "    ugos       (time, latitude, longitude) float64 dask.array<shape=(8901, 720, 1440), chunksize=(5, 720, 1440)>\n",
       "    ugosa      (time, latitude, longitude) float64 dask.array<shape=(8901, 720, 1440), chunksize=(5, 720, 1440)>\n",
       "    vgos       (time, latitude, longitude) float64 dask.array<shape=(8901, 720, 1440), chunksize=(5, 720, 1440)>\n",
       "    vgosa      (time, latitude, longitude) float64 dask.array<shape=(8901, 720, 1440), chunksize=(5, 720, 1440)>\n",
       "Attributes:\n",
       "    Conventions:                     CF-1.6\n",
       "    Metadata_Conventions:            Unidata Dataset Discovery v1.0\n",
       "    cdm_data_type:                   Grid\n",
       "    comment:                         Sea Surface Height measured by Altimetry...\n",
       "    contact:                         servicedesk.cmems@mercator-ocean.eu\n",
       "    creator_email:                   servicedesk.cmems@mercator-ocean.eu\n",
       "    creator_name:                    CMEMS - Sea Level Thematic Assembly Center\n",
       "    creator_url:                     http://marine.copernicus.eu\n",
       "    date_created:                    2014-02-26T16:09:13Z\n",
       "    date_issued:                     2014-01-06T00:00:00Z\n",
       "    date_modified:                   2015-11-10T19:42:51Z\n",
       "    geospatial_lat_max:              89.875\n",
       "    geospatial_lat_min:              -89.875\n",
       "    geospatial_lat_resolution:       0.25\n",
       "    geospatial_lat_units:            degrees_north\n",
       "    geospatial_lon_max:              359.875\n",
       "    geospatial_lon_min:              0.125\n",
       "    geospatial_lon_resolution:       0.25\n",
       "    geospatial_lon_units:            degrees_east\n",
       "    geospatial_vertical_max:         0.0\n",
       "    geospatial_vertical_min:         0.0\n",
       "    geospatial_vertical_positive:    down\n",
       "    geospatial_vertical_resolution:  point\n",
       "    geospatial_vertical_units:       m\n",
       "    history:                         2014-02-26T16:09:13Z: created by DUACS D...\n",
       "    institution:                     CLS, CNES\n",
       "    keywords:                        Oceans > Ocean Topography > Sea Surface ...\n",
       "    keywords_vocabulary:             NetCDF COARDS Climate and Forecast Stand...\n",
       "    license:                         http://marine.copernicus.eu/web/27-servi...\n",
       "    platform:                        ERS-1, Topex/Poseidon\n",
       "    processing_level:                L4\n",
       "    product_version:                 5.0\n",
       "    project:                         COPERNICUS MARINE ENVIRONMENT MONITORING...\n",
       "    references:                      http://marine.copernicus.eu\n",
       "    source:                          Altimetry measurements\n",
       "    ssalto_duacs_comment:            The reference mission used for the altim...\n",
       "    standard_name_vocabulary:        NetCDF Climate and Forecast (CF) Metadat...\n",
       "    summary:                         SSALTO/DUACS Delayed-Time Level-4 sea su...\n",
       "    time_coverage_duration:          P1D\n",
       "    time_coverage_end:               1993-01-01T12:00:00Z\n",
       "    time_coverage_resolution:        P1D\n",
       "    time_coverage_start:             1992-12-31T12:00:00Z\n",
       "    title:                           DT merged all satellites Global Ocean Gr..."
      ]
     },
     "execution_count": 3,
     "metadata": {},
     "output_type": "execute_result"
    }
   ],
   "source": [
    "ds"
   ]
  },
  {
   "cell_type": "code",
   "execution_count": 4,
   "metadata": {},
   "outputs": [
    {
     "name": "stdout",
     "output_type": "stream",
     "text": [
      "516.85054194 GB\n"
     ]
    }
   ],
   "source": [
    "print(ds.nbytes / 1e9, \"GB\")"
   ]
  },
  {
   "cell_type": "code",
   "execution_count": 5,
   "metadata": {},
   "outputs": [
    {
     "name": "stderr",
     "output_type": "stream",
     "text": [
      "WARNING: Casting depth data to np.float32\n"
     ]
    }
   ],
   "source": [
    "# convert Dataset to Parcels FieldSet\n",
    "variables = {'U': 'ugos', 'V': 'vgos'}\n",
    "dimensions = {'lon': 'longitude', 'lat': 'latitude', 'time': 'time'}\n",
    "fset = FieldSet.from_xarray_dataset(ds, variables, dimensions)\n",
    "fset.add_periodic_halo(zonal=True, meridional=False, halosize=2)"
   ]
  },
  {
   "cell_type": "code",
   "execution_count": 6,
   "metadata": {},
   "outputs": [],
   "source": [
    "# Create ParticleSet and output file\n",
    "lons, lats = np.meshgrid(np.arange(60, 80, 0.5), np.arange(-50, -30, 0.5))\n",
    "pset = ParticleSet(fset, JITParticle, lon=lons, lat=lats)\n",
    "ofile = pset.ParticleFile('aviso_particles.nc', outputdt=delta(days=2))"
   ]
  },
  {
   "cell_type": "code",
   "execution_count": 7,
   "metadata": {},
   "outputs": [],
   "source": [
    "def periodicBC(particle, fieldset, time):\n",
    "    if particle.lon < 0:\n",
    "        particle.lon += 360\n",
    "    elif particle.lon > 360:\n",
    "        particle.lon -= 360"
   ]
  },
  {
   "cell_type": "code",
   "execution_count": 8,
   "metadata": {},
   "outputs": [
    {
     "name": "stderr",
     "output_type": "stream",
     "text": [
      "WARNING: particle declared in multiple Kernels\n",
      "WARNING: fieldset declared in multiple Kernels\n",
      "WARNING: time declared in multiple Kernels\n"
     ]
    }
   ],
   "source": [
    "kernel = pset.Kernel(AdvectionRK4) + pset.Kernel(periodicBC)\n"
   ]
  },
  {
   "cell_type": "code",
   "execution_count": 9,
   "metadata": {},
   "outputs": [],
   "source": [
    "# %%time\n",
    "\n",
    "# # Advect ParticleSet with RK4 and periodic Boundary conditions\n",
    "# pset.execute(kernel, runtime=delta(days=10),\n",
    "#              dt=delta(hours=1), output_file=ofile)"
   ]
  },
  {
   "cell_type": "code",
   "execution_count": 10,
   "metadata": {},
   "outputs": [],
   "source": [
    "# pset.execute?"
   ]
  },
  {
   "cell_type": "code",
   "execution_count": 11,
   "metadata": {},
   "outputs": [],
   "source": [
    "# %matplotlib inline"
   ]
  },
  {
   "cell_type": "code",
   "execution_count": 12,
   "metadata": {},
   "outputs": [],
   "source": [
    "# plotTrajectoriesFile('aviso_particles.nc');"
   ]
  },
  {
   "cell_type": "markdown",
   "metadata": {},
   "source": [
    "# Many serial experiments on a Dask cluster"
   ]
  },
  {
   "cell_type": "code",
   "execution_count": 13,
   "metadata": {},
   "outputs": [
    {
     "data": {
      "application/vnd.jupyter.widget-view+json": {
       "model_id": "ecf19c0aa9eb4da6be8aa26f4be65243",
       "version_major": 2,
       "version_minor": 0
      },
      "text/plain": [
       "VBox(children=(HTML(value='<h2>KubeCluster</h2>'), HBox(children=(HTML(value='\\n<div>\\n  <style scoped>\\n    .…"
      ]
     },
     "metadata": {},
     "output_type": "display_data"
    }
   ],
   "source": [
    "from dask_kubernetes import KubeCluster\n",
    "from dask.distributed import Client\n",
    "cluster = KubeCluster(n_workers=25)\n",
    "client = Client(cluster)\n",
    "cluster"
   ]
  },
  {
   "cell_type": "code",
   "execution_count": 14,
   "metadata": {},
   "outputs": [],
   "source": [
    "ds = ds.chunk"
   ]
  },
  {
   "cell_type": "code",
   "execution_count": 15,
   "metadata": {},
   "outputs": [],
   "source": [
    "from dask import array as da"
   ]
  },
  {
   "cell_type": "code",
   "execution_count": 16,
   "metadata": {},
   "outputs": [],
   "source": [
    "def get_ds_from_pset(pset):\n",
    "    ids = da.asarray([p.id for p in pset.particles])\n",
    "    times = da.asarray([p.time for p in pset.particles])\n",
    "    lats = da.asarray([p.lat for p in pset.particles])\n",
    "    lons = da.asarray([p.lon for p in pset.particles])\n",
    "    ds = xr.Dataset(data_vars={\"times\": ((\"id\", ), times),\n",
    "                               \"lats\": ((\"id\", ), lats),\n",
    "                               \"lons\": ((\"id\", ), lons)},\n",
    "                    coords={\"id\": ids})\n",
    "    return ds"
   ]
  },
  {
   "cell_type": "markdown",
   "metadata": {},
   "source": [
    "Wrap an experiment with random initial positions into a function that then can be mapped to different random number seeds."
   ]
  },
  {
   "cell_type": "code",
   "execution_count": 17,
   "metadata": {},
   "outputs": [],
   "source": [
    "def periodicBC(particle, fieldset, time):\n",
    "    if particle.lon < 0:\n",
    "        particle.lon += 360\n",
    "    elif particle.lon > 360:\n",
    "        particle.lon -= 360\n",
    "\n",
    "import inspect\n",
    "_funccode = inspect.getsource(periodicBC.__code__) \n",
    "_funcvars = list(periodicBC.__code__.co_varnames)"
   ]
  },
  {
   "cell_type": "code",
   "execution_count": 18,
   "metadata": {},
   "outputs": [],
   "source": [
    "fname = \"pangeo-data/dataset-duacs-rep-global-merged-allsat-phy-l4-v3-alt\"\n",
    "gcsmap = gcsfs.mapping.GCSMap(fname)\n",
    "ds = xr.open_zarr(gcsmap).isel(\n",
    "    time=slice(0, 20)\n",
    ").chunk(\n",
    "    # (latitude: 720, longitude: 1440, nv: 2, time: 8901)\n",
    "    {\"time\": 1, \"latitude\": 180, \"longitude\": 360}\n",
    ").persist()"
   ]
  },
  {
   "cell_type": "code",
   "execution_count": 19,
   "metadata": {},
   "outputs": [],
   "source": [
    "def run_parcels(ds, runtime, outputdt, lon_bds, lat_bds, npart, seed):\n",
    "\n",
    "    variables = {'U': 'ugos', 'V': 'vgos'}\n",
    "    dimensions = {'lon': 'longitude', 'lat': 'latitude', 'time': 'time'}\n",
    "    fset = FieldSet.from_xarray_dataset(ds, variables, dimensions)\n",
    "    fset.add_periodic_halo(zonal=True, meridional=False, halosize=2)\n",
    "    \n",
    "    np.random.seed(seed)\n",
    "    lats = np.random.uniform(min(lat_bds), max(lat_bds), npart)\n",
    "    lons = np.random.uniform(min(lon_bds), max(lon_bds), npart)\n",
    "    pset = ParticleSet(fset, JITParticle, lon=lons, lat=lats)\n",
    "\n",
    "    Niter = int(np.ceil(runtime / outputdt))\n",
    "    \n",
    "    ds_list = [get_ds_from_pset(pset)]\n",
    "      \n",
    "    from parcels.kernel import Kernel\n",
    "\n",
    "    periodic_kernel = Kernel(fieldset=fset, ptype=JITParticle.getPType(),\n",
    "                             funcname=\"periodicBC\", pyfunc=periodicBC,\n",
    "                             funccode=_funccode, funcvars=_funcvars)\n",
    "        \n",
    "    kernel = pset.Kernel(AdvectionRK4) + periodic_kernel\n",
    "    for n in range(Niter):\n",
    "        pset.execute(kernel,\n",
    "                     runtime=outputdt, dt=delta(hours=1))\n",
    "        ds_list.append(get_ds_from_pset(pset))\n",
    "    \n",
    "    output_ds = xr.concat(ds_list, dim=\"t\")\n",
    "    \n",
    "    return output_ds"
   ]
  },
  {
   "cell_type": "code",
   "execution_count": 20,
   "metadata": {},
   "outputs": [
    {
     "name": "stderr",
     "output_type": "stream",
     "text": [
      "WARNING: particle declared in multiple Kernels\n",
      "WARNING: fieldset declared in multiple Kernels\n",
      "WARNING: time declared in multiple Kernels\n",
      "INFO: Compiled JITParticleAdvectionRK4periodicBC ==> /tmp/parcels-1000/63d3fce3f52f0a9a0bf846afdcd4f820.so\n"
     ]
    },
    {
     "name": "stdout",
     "output_type": "stream",
     "text": [
      "CPU times: user 11.2 s, sys: 1.03 s, total: 12.2 s\n",
      "Wall time: 14.1 s\n"
     ]
    },
    {
     "data": {
      "text/plain": [
       "<xarray.Dataset>\n",
       "Dimensions:  (id: 10000, t: 11)\n",
       "Coordinates:\n",
       "  * id       (id) int32 1600 1601 1602 1603 1604 ... 11596 11597 11598 11599\n",
       "Dimensions without coordinates: t\n",
       "Data variables:\n",
       "    times    (t, id) float64 dask.array<shape=(11, 10000), chunksize=(1, 10000)>\n",
       "    lats     (t, id) float32 dask.array<shape=(11, 10000), chunksize=(1, 10000)>\n",
       "    lons     (t, id) float32 dask.array<shape=(11, 10000), chunksize=(1, 10000)>"
      ]
     },
     "execution_count": 20,
     "metadata": {},
     "output_type": "execute_result"
    }
   ],
   "source": [
    "%%time\n",
    "\n",
    "run_parcels(ds, \n",
    "            delta(days=10), delta(days=1), \n",
    "            [60, 80], [-50, -30], 10000, 123)"
   ]
  },
  {
   "cell_type": "code",
   "execution_count": 21,
   "metadata": {},
   "outputs": [],
   "source": [
    "from dask import bag as db"
   ]
  },
  {
   "cell_type": "code",
   "execution_count": 22,
   "metadata": {},
   "outputs": [
    {
     "data": {
      "text/plain": [
       "dask.bag<map-lam..., npartitions=50>"
      ]
     },
     "execution_count": 22,
     "metadata": {},
     "output_type": "execute_result"
    }
   ],
   "source": [
    "seeds = db.from_sequence(range(50), npartitions=50)\n",
    "p_ds_bag = db.map(lambda s: run_parcels(ds, \n",
    "                                        delta(days=10), delta(days=1), \n",
    "                                        [60, 80], [-50, -30], 10000, s),\n",
    "                  seeds)\n",
    "p_ds_bag"
   ]
  },
  {
   "cell_type": "code",
   "execution_count": null,
   "metadata": {},
   "outputs": [],
   "source": [
    "%%time\n",
    "\n",
    "p_ds = xr.concat(p_ds_bag, dim=\"id\");"
   ]
  },
  {
   "cell_type": "code",
   "execution_count": null,
   "metadata": {},
   "outputs": [],
   "source": [
    "p_ds.coords[\"id\"] = np.arange(len(p_ds.id))"
   ]
  },
  {
   "cell_type": "code",
   "execution_count": null,
   "metadata": {},
   "outputs": [],
   "source": [
    "p_ds"
   ]
  },
  {
   "cell_type": "code",
   "execution_count": null,
   "metadata": {},
   "outputs": [],
   "source": [
    "p_ds.nbytes / 1e9"
   ]
  },
  {
   "cell_type": "code",
   "execution_count": null,
   "metadata": {},
   "outputs": [],
   "source": [
    "p_ds.lons.plot.hist();"
   ]
  }
 ],
 "metadata": {
  "kernelspec": {
   "display_name": "Python 3",
   "language": "python",
   "name": "python3"
  },
  "language_info": {
   "codemirror_mode": {
    "name": "ipython",
    "version": 3
   },
   "file_extension": ".py",
   "mimetype": "text/x-python",
   "name": "python",
   "nbconvert_exporter": "python",
   "pygments_lexer": "ipython3",
   "version": "3.6.7"
  }
 },
 "nbformat": 4,
 "nbformat_minor": 2
}
